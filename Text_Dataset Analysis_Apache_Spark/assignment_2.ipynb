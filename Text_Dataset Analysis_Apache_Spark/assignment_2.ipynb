{
  "cells": [
    {
      "cell_type": "code",
      "execution_count": null,
      "metadata": {
        "id": "Vl2keC7qQ1B8"
      },
      "outputs": [],
      "source": []
    },
    {
      "cell_type": "markdown",
      "metadata": {
        "id": "y0S3PBIZQ2NH"
      },
      "source": [
        "<h1><center>Big Data Algorithms Techniques & Platforms</center></h1>\n",
        "<h2>\n",
        "<hr style=\" border:none; height:3px;\">\n",
        "<center>Spark and DataFrames</center>\n",
        "<hr style=\" border:none; height:3px;\">\n",
        "</h2>"
      ]
    },
    {
      "cell_type": "markdown",
      "metadata": {
        "id": "g53MVOhDv7Oe"
      },
      "source": [
        "#A. Analysis of the ``Great Expectations`` - Charles Dickens\n",
        "\n",
        "Suppose you have a file containing the text of the ``Great Expectation``, a novel written in English by Charles Dickens. You can see an excerpt below :"
      ]
    },
    {
      "cell_type": "markdown",
      "metadata": {
        "id": "wwiHRqBNv8Tf"
      },
      "source": [
        "\"I pointed to where our village lay, on the flat in-shore among the\n",
        "alder-trees and pollards, a mile or more from the church.\n",
        "\n",
        "The man, after looking at me for a moment, turned me upside down, and\n",
        "emptied my pockets. There was nothing in them but a piece of bread.\n",
        "When the church came to itself,—for he was so sudden and strong that he\n",
        "made it go head over heels before me, and I saw the steeple under my\n",
        "feet,—when the church came to itself, I say, I was seated on a high\n",
        "tombstone, trembling while he ate the bread ravenously.\"\n",
        "\n"
      ]
    },
    {
      "cell_type": "markdown",
      "metadata": {
        "id": "DI8DIAIBdPQ7"
      },
      "source": [
        "## <strong>Exercise 0.</strong> Support functions"
      ]
    },
    {
      "cell_type": "code",
      "execution_count": null,
      "metadata": {
        "id": "bRoe2rJxdIvk"
      },
      "outputs": [],
      "source": [
        "### Write here all the import function and the support function you need for processing the text\n",
        "\n"
      ]
    },
    {
      "cell_type": "markdown",
      "metadata": {
        "id": "Jeq1OBoKc7aS"
      },
      "source": [
        "## <strong>Exercise 1</strong> Word number in sentences\n",
        "\n",
        "The length of a sentence is the number of words that compose the sentence.\n",
        "\n",
        "Write and comment on the set of Spark operations that return how many sentences we have for each available length in the text. You must also show the five most common lengths.\n",
        "\n",
        "Notice that in the available text, a sentence is a set of lines that ends with a strong punctuation mark (i.e., \".\", \"!\", \"?\", etc.).\n",
        "\n",
        "Notice that:\n",
        "\n",
        "* The novel starts after the <code> *** START OF THE PROJECT GUTENBERG EBOOK GREAT EXPECTATIONS ***</code>\n",
        "\n",
        "* <code> [Illustration] </code> is not a sentence\n",
        "\n",
        "* <code>Chapter VIII.</code> is not a sentence\n",
        "\n",
        "You can introduce your constraints for the parsing. Multiple solutions and points of view are correct. You must comment on your point of view (i.e., the definition of ``sentence'' in your analysis).\n",
        "\n",
        "You can choose if you are considering the stop-words in the count: add your point of view in the comment."
      ]
    },
    {
      "cell_type": "code",
      "execution_count": null,
      "metadata": {
        "id": "bg6DHjA5daP1"
      },
      "outputs": [],
      "source": [
        "############## WRITE YOUR CODE HERE ##############\n"
      ]
    },
    {
      "cell_type": "markdown",
      "metadata": {
        "id": "Ldd9xwUNdGGF"
      },
      "source": [
        "## <strong>Exercise 2.</strong> The average length of sentences in the entire novel\n",
        "Write and comment on the set of Spark operations that returns and shows the average length of the sentences in the novel."
      ]
    },
    {
      "cell_type": "code",
      "execution_count": null,
      "metadata": {
        "id": "SpfbBE_KlPe1"
      },
      "outputs": [],
      "source": [
        "############## WRITE YOUR CODE HERE ##############\n"
      ]
    },
    {
      "cell_type": "markdown",
      "metadata": {
        "id": "a9qdDteilCiO"
      },
      "source": [
        "## <strong>Exercise 3.</strong> Average length in chapters\n",
        "\n",
        "Write and comment on the set of Spark operations that returns and shows the average length of sentences in each chapter."
      ]
    },
    {
      "cell_type": "code",
      "execution_count": null,
      "metadata": {
        "id": "48F6wdNBkADi"
      },
      "outputs": [],
      "source": [
        "############## WRITE YOUR CODE HERE ##############\n"
      ]
    },
    {
      "cell_type": "markdown",
      "source": [
        "## <strong>Exercise 4.</strong> The most repeated words in the sentences\n",
        "\n",
        "Write and comment on the set of Spark operations that returns the ten most repeated words in a sentence and their repetition rate.\n",
        "\n",
        "For example, the most repeated word in this set of sentences is <code> cat </code>, with an average repetition rate of 2. The word <code> table </code> is not considered as repeated.\n",
        "\n",
        "* The cat is on the cat table.\n",
        "* The table is red.\n",
        "* The wooden table is broken.\n",
        "\n"
      ],
      "metadata": {
        "id": "YgxgDiJlKn8s"
      }
    },
    {
      "cell_type": "code",
      "source": [],
      "metadata": {
        "id": "yCNmkkXHKmNU"
      },
      "execution_count": null,
      "outputs": []
    },
    {
      "cell_type": "markdown",
      "source": [],
      "metadata": {
        "id": "Rw2bvV93KmAW"
      }
    },
    {
      "cell_type": "markdown",
      "metadata": {
        "id": "5a0nrGmRQ7Yk"
      },
      "source": [
        "# B. Coffee Dataset\n",
        "\n",
        "<p align=\"justify\">\n",
        "<font size=\"3\">\n",
        "For running this series of exercises, we are going to use a dataset coming from <a href=\"https://www.kaggle.com/datasets/schmoyote/coffee-reviews-dataset\">Kaggle</a>.\n",
        "\n",
        "As stated in the description of the dataset:\n",
        "\"Dataset contains information about coffee production and consumption.\n",
        "\n",
        "All data are available from the official ICO website:\n",
        "https://www.ico.org/new_historical.asp\".\n",
        "</font>\n",
        "</p>\n",
        "\n",
        "\n",
        "### The dataset\n",
        "\n",
        "<p align=\"justify\">\n",
        "<font size=\"3\">\n",
        "The dataset is in a .csv file, and among the columns, you can find:\n",
        "\n",
        "<ul>\n",
        "<li> <code>name</code> The name of the blend </li>\n",
        "<li><code>roaster</code> The name of the roaster</li>\n",
        "<li><code>roast</code> The type of roast</li>\n",
        "<li><code>loc_country</code> The country of the roaster</li>\n",
        "<li><code>...</code> ...</li>\n",
        "</ul>\n",
        "</p>\n",
        "</font>\n",
        "\n"
      ]
    },
    {
      "cell_type": "code",
      "execution_count": null,
      "metadata": {
        "id": "i-FdlIK_9tT3"
      },
      "outputs": [],
      "source": [
        "! pip install kaggle\n",
        "\n",
        "! mkdir ~/.kaggle\n",
        "\n",
        "! cp kaggle.json ~/.kaggle/\n",
        "\n",
        "! chmod 600 ~/.kaggle/kaggle.json"
      ]
    },
    {
      "cell_type": "code",
      "source": [
        "! kaggle datasets download schmoyote/coffee-reviews-dataset"
      ],
      "metadata": {
        "id": "3CThDJ818ANV"
      },
      "execution_count": null,
      "outputs": []
    },
    {
      "cell_type": "code",
      "execution_count": null,
      "metadata": {
        "id": "MJ-P2NQd9uKI"
      },
      "outputs": [],
      "source": [
        "!unzip coffee-reviews-dataset.zip"
      ]
    },
    {
      "cell_type": "code",
      "source": [
        "# Add your imports"
      ],
      "metadata": {
        "id": "GDob14Yt8MLQ"
      },
      "execution_count": null,
      "outputs": []
    },
    {
      "cell_type": "markdown",
      "metadata": {
        "id": "zr5auOga9X0Q"
      },
      "source": [
        "## <strong> Spark and Pandas.</strong>\n",
        "\n",
        "For this set of exercises, you must import data in Spark. After this first import, you can pass any dataset to Pandas for data analysis. At the end of each exercise (when the question is pertinent), you must return (reconvert) the dataframe in Spark.\n",
        "\n",
        "Each time you do this conversion you must comment about this. Example:\n",
        "\n",
        "<code> # creating a Spark dataframe </code>\n",
        "\n",
        "<code> df = ... </code>\n",
        "\n",
        "<code> # using Pandas and creating a Pandas dataframe </code>\n",
        "\n",
        "<code> dfp = df. ... </code>\n",
        "\n",
        "<code> # back to Spark </code>\n",
        "\n",
        "<code> dfs = ... </code>"
      ]
    },
    {
      "cell_type": "markdown",
      "metadata": {
        "id": "WBNt1hUkTGUQ"
      },
      "source": [
        "## <strong> Exercise 5.</strong> First import and data type\n",
        "Import the .csv file in Spark DataFrame and show the structure of the dataframe.\n",
        "\n",
        "Check and comment about the data type of each column. As you know, a good data analysis always starts from understanding your dataset."
      ]
    },
    {
      "cell_type": "code",
      "execution_count": null,
      "metadata": {
        "id": "bM5Oi6vMR5OC"
      },
      "outputs": [],
      "source": [
        "# Write the command that creates (reads) a Spark DataFrame and stores the reference in the dfs variable\n",
        "\n",
        "#'''############## WRITE HERE YOUR CODE ##############'''\n",
        "dfs =\n",
        "\n",
        "# show the DataFrame schema\n",
        "dfs\n",
        "\n",
        "###### Write here your comment ##############"
      ]
    },
    {
      "cell_type": "markdown",
      "metadata": {
        "id": "VZ1400g4h7fK"
      },
      "source": [
        "## <strong> Exercise 6.</strong> Data modeling choices\n",
        "    \n",
        "<p align=\"justify\">\n",
        "<font size=\"3\">\n",
        "Comment on the data-modeling choices and if you consider them correct from a general data-modeling point of view.\n",
        "</font>\n",
        "</p>\n"
      ]
    },
    {
      "cell_type": "code",
      "execution_count": null,
      "metadata": {
        "id": "I80ZGgPGtUd6"
      },
      "outputs": [],
      "source": [
        "###### Write here your comment"
      ]
    },
    {
      "cell_type": "markdown",
      "metadata": {
        "id": "ET9gY8MH21Ew"
      },
      "source": [
        "## <strong> Exercise 7.</strong>  Best rated coffees\n",
        "    \n",
        "<p align=\"justify\">\n",
        "<font size=\"3\">\n",
        "We want to find the 5 best rated coffees.\n",
        "</font>\n",
        "</p>"
      ]
    },
    {
      "cell_type": "code",
      "execution_count": null,
      "metadata": {
        "id": "QdVft7Fq3pPe"
      },
      "outputs": [],
      "source": [
        "############## WRITE YOUR CODE HERE ##############\n"
      ]
    },
    {
      "cell_type": "markdown",
      "metadata": {
        "id": "2e-mami838aZ"
      },
      "source": [
        "## <strong> Exercise 8.</strong> The best 10 roasters\n",
        "<p align=\"justify\">\n",
        "<font size=\"3\">\n",
        "We want to find the ten best roasters. It is up to you to define and refine the ``best'' metric (best in the platform from the beginning of data collection, best in the last three years, best and with a minimum number of ratings, etc.).\n",
        "\n",
        "Add the definition of your best metric in the comments.\n",
        "</font>\n",
        "</p>"
      ]
    },
    {
      "cell_type": "code",
      "execution_count": null,
      "metadata": {
        "id": "68a38QpWvbqZ"
      },
      "outputs": [],
      "source": [
        "############## WRITE YOUR CODE HERE ##############\n"
      ]
    },
    {
      "cell_type": "markdown",
      "metadata": {
        "id": "NWyhAOgxvdp2"
      },
      "source": [
        "## <strong> Exercise 9.</strong> Best country\n",
        "<p align=\"justify\">\n",
        "<font size=\"3\">\n",
        "If you were a roaster, in which three countries would you try to set your business?\n",
        "\n",
        "Show them and refine your metric definition if necessary.\n",
        "</font>\n",
        "</p>\n"
      ]
    },
    {
      "cell_type": "code",
      "execution_count": null,
      "metadata": {
        "id": "zcdMj2NlwOZl"
      },
      "outputs": [],
      "source": [
        "############## WRITE YOUR CODE HERE AND THE DESCRIPTION OF YOUR \"SOMEHOW\" ##############\n"
      ]
    },
    {
      "cell_type": "markdown",
      "source": [
        "## <strong> Exercise 10.</strong> Less common origin\n",
        "<p align=\"justify\">\n",
        "<font size=\"3\">\n",
        "Show the ten less common origins of the coffees.\n",
        "\n",
        "</font>\n",
        "</p>"
      ],
      "metadata": {
        "id": "IagcQAfBAC-7"
      }
    },
    {
      "cell_type": "code",
      "source": [
        "############## WRITE YOUR CODE HERE AND THE DESCRIPTION OF YOUR \"SOMEHOW\" ##############\n"
      ],
      "metadata": {
        "id": "YmnpTOAvAD1N"
      },
      "execution_count": null,
      "outputs": []
    },
    {
      "cell_type": "markdown",
      "metadata": {
        "id": "2Wpmj23nwTDk"
      },
      "source": [
        "## <strong> Exercise 11.</strong>  Propose your own analysis\n",
        "\n",
        "\n",
        "\n",
        "    \n",
        "<p align=\"justify\">\n",
        "<font size=\"3\">\n",
        "Propose here an analysis on the dataframe.\n",
        "</font>\n",
        "</p>"
      ]
    },
    {
      "cell_type": "code",
      "execution_count": null,
      "metadata": {
        "id": "rb-wdPJEwcLF"
      },
      "outputs": [],
      "source": []
    }
  ],
  "metadata": {
    "colab": {
      "provenance": []
    },
    "kernelspec": {
      "display_name": "Python 3",
      "name": "python3"
    },
    "language_info": {
      "name": "python"
    }
  },
  "nbformat": 4,
  "nbformat_minor": 0
}